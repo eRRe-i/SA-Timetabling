{
 "cells": [
  {
   "cell_type": "markdown",
   "id": "2d942a3e",
   "metadata": {},
   "source": [
    "# TEO - Timetabling"
   ]
  },
  {
   "cell_type": "code",
   "execution_count": 1,
   "id": "253c541a",
   "metadata": {},
   "outputs": [],
   "source": [
    "import pandas as pd"
   ]
  },
  {
   "cell_type": "code",
   "execution_count": null,
   "id": "bd15dd8c",
   "metadata": {},
   "outputs": [],
   "source": [
    "class course:\n",
    "    \n",
    "    def __init__(self, csv_name){\n",
    "        \n",
    "        self.csvname = csv_name\n",
    "        self.mandatory_events_csvname = 'ufrrj_events.csv'\n",
    "        self.professors_csvname = 'ufrrj_professors.csv'\n",
    "        \n",
    "        self.students = [] #recebe as instâncias de estudantes\n",
    "        self.professors = [] #recebe as instâncias de professores\n",
    "        self.mandatory_events = []\n",
    "        self.optative_events = []\n",
    "        self.soft_constraints = []\n",
    "        \n",
    "        self.student_conflict_matrix\n",
    "        self.teachers_conflict_matix\n",
    "\n",
    "    @staticmethod\n",
    "    def generate_students(csv_name, total_students,\n",
    "                          year1, total_y1, \n",
    "                          year2, total_y2,\n",
    "                          year3, total_y3,\n",
    "                          year4, total_y4,\n",
    "                          year_rest)\n",
    "        df = DataFrame()\n",
    "        for i in range(maxstudents):\n",
    "            \n",
    "        \n",
    "                          \n",
    "                          \n",
    "                          \n",
    "    }\n",
    "    \n",
    "    def\n",
    "    "
   ]
  },
  {
   "cell_type": "code",
   "execution_count": null,
   "id": "94b70136",
   "metadata": {},
   "outputs": [],
   "source": [
    "class student():\n",
    "    \n",
    "    def __init__(name, year):\n",
    "        self.name = name\n",
    "        self.year = year\n",
    "        self.mandatory_events = []\n",
    "        self.optative_events = []\n",
    "    "
   ]
  },
  {
   "cell_type": "code",
   "execution_count": null,
   "id": "2036a744",
   "metadata": {},
   "outputs": [],
   "source": [
    "class professor():\n",
    "    \n",
    "    def __init__(name, classes)"
   ]
  },
  {
   "cell_type": "code",
   "execution_count": null,
   "id": "60ba93c1",
   "metadata": {},
   "outputs": [],
   "source": [
    "class event:"
   ]
  },
  {
   "cell_type": "code",
   "execution_count": null,
   "id": "5cb6e2e9",
   "metadata": {},
   "outputs": [],
   "source": [
    "class soft_constraint:\n",
    "    self.penalty_constraint"
   ]
  }
 ],
 "metadata": {
  "kernelspec": {
   "display_name": "Python 3",
   "language": "python",
   "name": "python3"
  },
  "language_info": {
   "codemirror_mode": {
    "name": "ipython",
    "version": 3
   },
   "file_extension": ".py",
   "mimetype": "text/x-python",
   "name": "python",
   "nbconvert_exporter": "python",
   "pygments_lexer": "ipython3",
   "version": "3.8.10"
  }
 },
 "nbformat": 4,
 "nbformat_minor": 5
}
