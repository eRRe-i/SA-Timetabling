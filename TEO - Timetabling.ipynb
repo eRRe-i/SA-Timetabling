{
 "cells": [
  {
   "cell_type": "markdown",
   "id": "2d942a3e",
   "metadata": {},
   "source": [
    "# TEO - Timetabling"
   ]
  },
  {
   "cell_type": "code",
   "execution_count": 1,
   "id": "253c541a",
   "metadata": {},
   "outputs": [],
   "source": [
    "import pandas as pd"
   ]
  },
  {
   "cell_type": "markdown",
   "id": "1526261b",
   "metadata": {},
   "source": [
    "## Modelagem das estruturas (até agora)"
   ]
  },
  {
   "cell_type": "markdown",
   "id": "5c2c8f06",
   "metadata": {},
   "source": [
    "### Eventos\n",
    "\n",
    "Eventos são efetivamente as matérias que serão incluídas nos timeslots. Cada evento possui um código, o nome, o período associado (se a matéria é obrigatória) e a lista de pré-requisitos daquele evento.\\\n",
    "Dentro do vetores de alunos, haverá a probabilidade de o aluno não ter conseguido concluir uma matéria num período anterior, de modo que caso isso seja verdade, a matéria deverá aparecer como opcional para ele na função objetivo, pois haverá a possibilidade do indivíduo fazê-lo se tiver oportunidade para se reperiodizar. Além disso, qualquer pré-requisito não concluído indica que a matéria é trancada por ela deve ser retirada das disciplinas obrigatórias.\\\n",
    "Além disso, após a geração dos estudantes, uma lista de prioridades de optativas e mandatórias para alunos que repetiram deverá ser criada para a lista de disciplinas selecionadas."
   ]
  },
  {
   "cell_type": "code",
   "execution_count": 7,
   "id": "485c3f04",
   "metadata": {},
   "outputs": [
    {
     "data": {
      "text/html": [
       "<div>\n",
       "<style scoped>\n",
       "    .dataframe tbody tr th:only-of-type {\n",
       "        vertical-align: middle;\n",
       "    }\n",
       "\n",
       "    .dataframe tbody tr th {\n",
       "        vertical-align: top;\n",
       "    }\n",
       "\n",
       "    .dataframe thead th {\n",
       "        text-align: right;\n",
       "    }\n",
       "</style>\n",
       "<table border=\"1\" class=\"dataframe\">\n",
       "  <thead>\n",
       "    <tr style=\"text-align: right;\">\n",
       "      <th></th>\n",
       "      <th>cod_event</th>\n",
       "      <th>event_name</th>\n",
       "      <th>event_period</th>\n",
       "      <th>event_type</th>\n",
       "      <th>cod_prerequisites</th>\n",
       "    </tr>\n",
       "  </thead>\n",
       "  <tbody>\n",
       "    <tr>\n",
       "      <th>0</th>\n",
       "      <td>IM853</td>\n",
       "      <td>CIRCUITOS DIGITAIS</td>\n",
       "      <td>1.0</td>\n",
       "      <td>MANDATORY</td>\n",
       "      <td>NaN</td>\n",
       "    </tr>\n",
       "    <tr>\n",
       "      <th>1</th>\n",
       "      <td>IM885</td>\n",
       "      <td>GEOMETRIA ANALÍTICA</td>\n",
       "      <td>1.0</td>\n",
       "      <td>MANDATORY</td>\n",
       "      <td>NaN</td>\n",
       "    </tr>\n",
       "    <tr>\n",
       "      <th>2</th>\n",
       "      <td>TN703</td>\n",
       "      <td>COMPUTADORES E SOCIEDADE</td>\n",
       "      <td>1.0</td>\n",
       "      <td>MANDATORY</td>\n",
       "      <td>NaN</td>\n",
       "    </tr>\n",
       "    <tr>\n",
       "      <th>3</th>\n",
       "      <td>TN705</td>\n",
       "      <td>MATEMÁTICA DISCRETA PARA COMPUTAÇÃO</td>\n",
       "      <td>1.0</td>\n",
       "      <td>MANDATORY</td>\n",
       "      <td>NaN</td>\n",
       "    </tr>\n",
       "    <tr>\n",
       "      <th>4</th>\n",
       "      <td>TN706</td>\n",
       "      <td>PROGRAMAÇÃO ESTRUTURADA</td>\n",
       "      <td>1.0</td>\n",
       "      <td>MANDATORY</td>\n",
       "      <td>NaN</td>\n",
       "    </tr>\n",
       "  </tbody>\n",
       "</table>\n",
       "</div>"
      ],
      "text/plain": [
       "  cod_event                           event_name  event_period event_type  \\\n",
       "0     IM853                   CIRCUITOS DIGITAIS           1.0  MANDATORY   \n",
       "1     IM885                  GEOMETRIA ANALÍTICA           1.0  MANDATORY   \n",
       "2     TN703             COMPUTADORES E SOCIEDADE           1.0  MANDATORY   \n",
       "3     TN705  MATEMÁTICA DISCRETA PARA COMPUTAÇÃO           1.0  MANDATORY   \n",
       "4     TN706              PROGRAMAÇÃO ESTRUTURADA           1.0  MANDATORY   \n",
       "\n",
       "  cod_prerequisites  \n",
       "0               NaN  \n",
       "1               NaN  \n",
       "2               NaN  \n",
       "3               NaN  \n",
       "4               NaN  "
      ]
     },
     "execution_count": 7,
     "metadata": {},
     "output_type": "execute_result"
    }
   ],
   "source": [
    "df_events = pd.read_csv(\"/home/leandrobataglia/Documentos/SA-Timetabling/TEO-events.csv\")\n",
    "df_events.head()"
   ]
  },
  {
   "cell_type": "markdown",
   "id": "d78e5800",
   "metadata": {},
   "source": [
    "### Professores\n",
    "\n",
    "A lista de professores é utilizada, principalmente, para gerar a matriz de conflito em relação às disciplinas selecionadas.\\\n",
    "Além disso, referencia as preferências dos horários dos professores para minimização. Não será tentada na primeira formulação do problema."
   ]
  },
  {
   "cell_type": "code",
   "execution_count": 6,
   "id": "aa182c43",
   "metadata": {},
   "outputs": [
    {
     "data": {
      "text/html": [
       "<div>\n",
       "<style scoped>\n",
       "    .dataframe tbody tr th:only-of-type {\n",
       "        vertical-align: middle;\n",
       "    }\n",
       "\n",
       "    .dataframe tbody tr th {\n",
       "        vertical-align: top;\n",
       "    }\n",
       "\n",
       "    .dataframe thead th {\n",
       "        text-align: right;\n",
       "    }\n",
       "</style>\n",
       "<table border=\"1\" class=\"dataframe\">\n",
       "  <thead>\n",
       "    <tr style=\"text-align: right;\">\n",
       "      <th></th>\n",
       "      <th>cod_professor</th>\n",
       "      <th>professor_name</th>\n",
       "      <th>cod_preferred_hours</th>\n",
       "    </tr>\n",
       "  </thead>\n",
       "  <tbody>\n",
       "    <tr>\n",
       "      <th>0</th>\n",
       "      <td>PROF_1</td>\n",
       "      <td>ADRIELI FLAUTA</td>\n",
       "      <td>TER_8-10, TER_10-12, TER_14-16, TER_16-18</td>\n",
       "    </tr>\n",
       "    <tr>\n",
       "      <th>1</th>\n",
       "      <td>PROF_2</td>\n",
       "      <td>BRENO DEMBOFEXILE</td>\n",
       "      <td>SEX_8-10, SEX_10-12, SEX_14-16, SEX_16-18</td>\n",
       "    </tr>\n",
       "    <tr>\n",
       "      <th>2</th>\n",
       "      <td>PROF_3</td>\n",
       "      <td>DANILO POSER</td>\n",
       "      <td>NaN</td>\n",
       "    </tr>\n",
       "    <tr>\n",
       "      <th>3</th>\n",
       "      <td>PROF_4</td>\n",
       "      <td>PKMN-GO</td>\n",
       "      <td>SEG_8-10, SEG_10-12, SEG_14-16, SEG_16-18, TER...</td>\n",
       "    </tr>\n",
       "    <tr>\n",
       "      <th>4</th>\n",
       "      <td>PROF_5</td>\n",
       "      <td>GRAPH QUEEN</td>\n",
       "      <td>NaN</td>\n",
       "    </tr>\n",
       "  </tbody>\n",
       "</table>\n",
       "</div>"
      ],
      "text/plain": [
       "  cod_professor     professor_name  \\\n",
       "0        PROF_1     ADRIELI FLAUTA   \n",
       "1        PROF_2  BRENO DEMBOFEXILE   \n",
       "2        PROF_3       DANILO POSER   \n",
       "3        PROF_4           PKMN-GO    \n",
       "4        PROF_5        GRAPH QUEEN   \n",
       "\n",
       "                                 cod_preferred_hours  \n",
       "0          TER_8-10, TER_10-12, TER_14-16, TER_16-18  \n",
       "1          SEX_8-10, SEX_10-12, SEX_14-16, SEX_16-18  \n",
       "2                                                NaN  \n",
       "3  SEG_8-10, SEG_10-12, SEG_14-16, SEG_16-18, TER...  \n",
       "4                                                NaN  "
      ]
     },
     "execution_count": 6,
     "metadata": {},
     "output_type": "execute_result"
    }
   ],
   "source": [
    "df_professors = pd.read_csv(\"/home/leandrobataglia/Documentos/SA-Timetabling/TEO-professors.csv\")\n",
    "df_professors.head()"
   ]
  },
  {
   "cell_type": "markdown",
   "id": "8f2b2f13",
   "metadata": {},
   "source": [
    "### Estudantes\n",
    "\n",
    "Os estudantes são instâncias artificiais geradas a partir de um conjunto de demandas dos alunos para um dado semestre. Para tal, a cada instância, são consideradas apenas as mandatórias (período par ou ímpar) para as quais os estudantes são elegíveis, e uma função de probabilidade é rodada para definir se um determinado aluno \"deve\" uma matéria mandatória, e quantas matérias serão escolhidas pelo aluno da lista de optativas, caso não haja conflito com as mandatórias. Cada conflito de optativas incorrerá em uma penalidade na função objetivo, cuja importância varia de acordo com o período (quanto mais maior o peso).\\\n",
    "Além disso, para cada optativa para usuários dos períodos 6 em diante, será entendido como mandatórias, de acordo com o que está definido quanto à quantidade de optativas os alunos deste período precisam fazer."
   ]
  },
  {
   "cell_type": "code",
   "execution_count": null,
   "id": "94b70136",
   "metadata": {},
   "outputs": [],
   "source": [
    "class student():\n",
    "    \n",
    "    def __init__(name, year, opt_csv_name):\n",
    "        self.name = name\n",
    "        self.semester = semester\n",
    "        self.cod_mandatory = []\n",
    "        self.cod_optative_events = []\n",
    "    "
   ]
  },
  {
   "cell_type": "code",
   "execution_count": 8,
   "id": "58fa5759",
   "metadata": {},
   "outputs": [
    {
     "data": {
      "text/html": [
       "<div>\n",
       "<style scoped>\n",
       "    .dataframe tbody tr th:only-of-type {\n",
       "        vertical-align: middle;\n",
       "    }\n",
       "\n",
       "    .dataframe tbody tr th {\n",
       "        vertical-align: top;\n",
       "    }\n",
       "\n",
       "    .dataframe thead th {\n",
       "        text-align: right;\n",
       "    }\n",
       "</style>\n",
       "<table border=\"1\" class=\"dataframe\">\n",
       "  <thead>\n",
       "    <tr style=\"text-align: right;\">\n",
       "      <th></th>\n",
       "      <th>cod_timewindow</th>\n",
       "      <th>time group_1</th>\n",
       "      <th>time group_2</th>\n",
       "    </tr>\n",
       "  </thead>\n",
       "  <tbody>\n",
       "    <tr>\n",
       "      <th>0</th>\n",
       "      <td>SEG_8-10</td>\n",
       "      <td>True</td>\n",
       "      <td>False</td>\n",
       "    </tr>\n",
       "    <tr>\n",
       "      <th>1</th>\n",
       "      <td>SEG_10-12</td>\n",
       "      <td>True</td>\n",
       "      <td>True</td>\n",
       "    </tr>\n",
       "    <tr>\n",
       "      <th>2</th>\n",
       "      <td>SEG_14-16</td>\n",
       "      <td>True</td>\n",
       "      <td>True</td>\n",
       "    </tr>\n",
       "    <tr>\n",
       "      <th>3</th>\n",
       "      <td>SEG_16-18</td>\n",
       "      <td>False</td>\n",
       "      <td>True</td>\n",
       "    </tr>\n",
       "    <tr>\n",
       "      <th>4</th>\n",
       "      <td>TER_8-10</td>\n",
       "      <td>True</td>\n",
       "      <td>False</td>\n",
       "    </tr>\n",
       "  </tbody>\n",
       "</table>\n",
       "</div>"
      ],
      "text/plain": [
       "  cod_timewindow  time group_1  time group_2\n",
       "0       SEG_8-10          True         False\n",
       "1      SEG_10-12          True          True\n",
       "2      SEG_14-16          True          True\n",
       "3      SEG_16-18         False          True\n",
       "4       TER_8-10          True         False"
      ]
     },
     "execution_count": 8,
     "metadata": {},
     "output_type": "execute_result"
    }
   ],
   "source": [
    "df_timeslots = pd.read_csv(\"/home/leandrobataglia/Documentos/SA-Timetabling/TEO-timeslots.csv\")\n",
    "df_timeslots.head()"
   ]
  },
  {
   "cell_type": "code",
   "execution_count": null,
   "id": "bd15dd8c",
   "metadata": {},
   "outputs": [],
   "source": [
    "class course:\n",
    "    \n",
    "    def __init__(self, csv_name){\n",
    "        \n",
    "        self.csvname = csv_name\n",
    "        self.mandatory_events_csvname = 'ufrrj_events.csv'\n",
    "        self.professors_csvname = 'ufrrj_professors.csv'\n",
    "        \n",
    "        self.students = [] #recebe as instâncias de estudantes\n",
    "        self.professors = [] #recebe as instâncias de professores\n",
    "        self.mandatory_events = []\n",
    "        self.optative_events = []\n",
    "        self.soft_constraints = []\n",
    "        \n",
    "        self.student_conflict_matrix\n",
    "        self.teachers_conflict_matix\n",
    "\n",
    "    # UM MÉTODO PARA GERAR AS INSTÂNCIAS DE  ESTUDANTES, DEVIDAMENTE TRATADAS \n",
    "    # PARA QUE NÃO INCLUA PRÉ-REQUISITOS.PARA ISSO,ALÉM DISSO, SALVAR NUM CSV\n",
    "    # PARA QUE POSSA SERVIR COMO O CONJUNTO DE ALUNOS DE UMA INSTÂNCIA DO PROBLEMA.\n",
    "    @staticmethod\n",
    "    def generate_students(csv_name, total_students,\n",
    "                          year1, total_y1, \n",
    "                          year2, total_y2,\n",
    "                          year3, total_y3,\n",
    "                          year4, total_y4,\n",
    "                          year_rest, semester)\n",
    "        \n",
    "        df_events = pd.open(\"TEO-events.csv\")\n",
    "        \n",
    "        df_events = pd.read_csv('TEO-events.xlsx')\n",
    "        for i in range(maxstudents):\n",
    "                           \n",
    "                          \n",
    "                          \n",
    "    }\n",
    "    "
   ]
  },
  {
   "cell_type": "code",
   "execution_count": null,
   "id": "2036a744",
   "metadata": {},
   "outputs": [],
   "source": [
    "class professor():\n",
    "    \n",
    "    def __init__(name, classes)"
   ]
  },
  {
   "cell_type": "code",
   "execution_count": null,
   "id": "60ba93c1",
   "metadata": {},
   "outputs": [],
   "source": [
    "class event:"
   ]
  },
  {
   "cell_type": "code",
   "execution_count": null,
   "id": "5cb6e2e9",
   "metadata": {},
   "outputs": [],
   "source": [
    "class soft_constraint:\n",
    "    self.penalty_constraint"
   ]
  },
  {
   "cell_type": "code",
   "execution_count": null,
   "id": "87bee098",
   "metadata": {},
   "outputs": [],
   "source": []
  }
 ],
 "metadata": {
  "kernelspec": {
   "display_name": "Python 3",
   "language": "python",
   "name": "python3"
  },
  "language_info": {
   "codemirror_mode": {
    "name": "ipython",
    "version": 3
   },
   "file_extension": ".py",
   "mimetype": "text/x-python",
   "name": "python",
   "nbconvert_exporter": "python",
   "pygments_lexer": "ipython3",
   "version": "3.8.10"
  }
 },
 "nbformat": 4,
 "nbformat_minor": 5
}
