{
 "cells": [
  {
   "cell_type": "code",
   "execution_count": 1,
   "id": "4854f2e9",
   "metadata": {},
   "outputs": [],
   "source": [
    "import json\n",
    "import csv\n",
    "import random"
   ]
  },
  {
   "cell_type": "code",
   "execution_count": 308,
   "id": "687d530e",
   "metadata": {},
   "outputs": [],
   "source": [
    "class Event:\n",
    "    def __init__(self, cod_event, \n",
    "                 event_name, \n",
    "                 event_period, \n",
    "                 event_type, \n",
    "                 students_assigned, \n",
    "                 student_pending_counter,\n",
    "                 cod_timegroup,\n",
    "                 assigned_professor):\n",
    "        \n",
    "        self.cod_event = cod_event\n",
    "        self.event_name = event_name\n",
    "        self.event_period = event_period\n",
    "        self.event_type = event_type\n",
    "        self.students_assigned = students_assigned\n",
    "        self.student_pending_counter = student_pending_counter\n",
    "        self.cod_timegroup = cod_timegroup\n",
    "        self.assigned_professor = assigned_professor"
   ]
  },
  {
   "cell_type": "code",
   "execution_count": 4,
   "id": "82aaf9b2",
   "metadata": {},
   "outputs": [],
   "source": [
    "class Student:\n",
    "    \n",
    "    def __init__(self, name, semester, cod_pending_mandatory_events):\n",
    "        self.name = name\n",
    "        self.semester = semester\n",
    "        self.cod_pending_mandatory_events = cod_pending_mandatory_events\n",
    "        self.cod_chosen_optative_events = []"
   ]
  },
  {
   "cell_type": "code",
   "execution_count": 58,
   "id": "d719a88e",
   "metadata": {},
   "outputs": [],
   "source": [
    "class Professor:\n",
    "    def __init__(self, cod_professor, professor_name, cod_preferred_hours):\n",
    "        self.cod_professor = cod_professor\n",
    "        self.professor_name = professor_name\n",
    "        self.cod_preferred_hours = cod_preferred_hours"
   ]
  },
  {
   "cell_type": "code",
   "execution_count": 372,
   "id": "c1b18cca",
   "metadata": {},
   "outputs": [],
   "source": [
    "class Timeslot:\n",
    "    def __init__(self, cod_timewindow, cod_days, cod_time, timegroup):\n",
    "        self.cod_timewindow = cod_timewindow\n",
    "        self.cod_days = cod_days\n",
    "        self.cod_time = cod_time\n",
    "        self.timegroup = timegroup"
   ]
  },
  {
   "cell_type": "code",
   "execution_count": 516,
   "id": "5eeba86e",
   "metadata": {},
   "outputs": [],
   "source": [
    "class SA_Timetabling():\n",
    "    \n",
    "    path = \"/home/leandrobataglia/Documentos/SA-Timetabling/\"\n",
    "    instances_path = \"instances/\"\n",
    "    \n",
    "    \n",
    "    def __init__(self):\n",
    "        \n",
    "\n",
    "        self.events = []\n",
    "        self.professors = []\n",
    "        self.students = []\n",
    "        self.timeslots = []\n",
    "        self.constraints = []\n",
    "        self.timetable = []\n",
    "        \n",
    "        self.dict_events = dict()\n",
    "        self.dict_timeslots = dict()\n",
    "        \n",
    "        self.students_conflict_matrix = []\n",
    "        self.professors_conflict_matrix = []\n",
    "        \n",
    "        self.students_conflict_dict = dict()\n",
    "        self.professors_conflict_dict = dict()\n",
    "        self.timewindow_conflict_dict = dict()\n",
    "        \n",
    "        \n",
    "\n",
    "    def load_students(self, filename):\n",
    "        \n",
    "        f = open(type(self).path + type(self).instances_path + filename)\n",
    "        data = json.load(f)\n",
    "        \n",
    "        for item in data:\n",
    "            \n",
    "            student_object = Student(item[\"name\"],\n",
    "                                      item[\"semester\"],\n",
    "                                      item[\"cod_pending_mandatory_events\"])\n",
    "            self.students.append(student_object)\n",
    "        f.close()\n",
    "        \n",
    "        \n",
    "    def load_events(self, filename):\n",
    "        \n",
    "        f = open(type(self).path + type(self).instances_path + filename)\n",
    "        data = json.load(f)\n",
    "        \n",
    "        for item in data:\n",
    "            event_object = Event(item[\"cod_event\"],\n",
    "                                 item[\"event_name\"],\n",
    "                                 item[\"event_period\"],\n",
    "                                 item[\"event_type\"],\n",
    "                                 item[\"students_assigned\"],\n",
    "                                 item[\"student_pending_counter\"],\n",
    "                                 item[\"cod_timegroup\"],\n",
    "                                 item[\"assigned_professor\"])\n",
    "            self.events.append(event_object)\n",
    "        f.close()\n",
    "        \n",
    "    def load_dict_events(self, filename):\n",
    "        \n",
    "        dict_events = dict()\n",
    "        \n",
    "        f = open(type(self).path + type(self).instances_path + filename)\n",
    "        data = json.load(f)\n",
    "        \n",
    "        for item in data:\n",
    "            dict_events.update({item[\"cod_event\"] : Event(item[\"cod_event\"],\n",
    "                                             item[\"event_name\"],\n",
    "                                             item[\"event_period\"],\n",
    "                                             item[\"event_type\"],\n",
    "                                             item[\"students_assigned\"],\n",
    "                                             item[\"student_pending_counter\"],\n",
    "                                             item[\"cod_timegroup\"],\n",
    "                                             item[\"assigned_professor\"])})\n",
    "                        \n",
    "        self.dict_events = dict_events\n",
    "        f.close()\n",
    "        \n",
    "    def load_professors(self):\n",
    "        f = open(type(self).path + \"TEO-professors.json\")\n",
    "        data = json.load(f)\n",
    "        \n",
    "        for item in data:\n",
    "            professor_object = Professor(item[\"cod_professor\"], \n",
    "                                         item[\"professor_name\"], \n",
    "                                         item[\"cod_preferred_hours\"])\n",
    "            self.professors.append(professor_object)\n",
    "                \n",
    "        f.close()\n",
    "            \n",
    "\n",
    "        \n",
    "    def load_timeslots(self):\n",
    "        f = open(type(self).path + \"TEO-timeslots.json\")\n",
    "        data = json.load(f)\n",
    "\n",
    "        for item in data:\n",
    "            timeslot_object = Timeslot(item[\"cod_timewindow\"],\n",
    "                                       item[\"cod_days\"],\n",
    "                                       item[\"cod_time\"],\n",
    "                                       item[\"timegroup\"])                        \n",
    "            self.timeslots.append(timeslot_object)\n",
    "        f.close()\n",
    "        \n",
    "        \n",
    "        \n",
    "    def load_dict_timeslots(self):\n",
    "        dict_timeslots = dict()\n",
    "        f = open(type(self).path + \"TEO-timeslots.json\")\n",
    "        data = json.load(f)\n",
    "        for item in data:\n",
    "            dict_timeslots.update({\"cod_timewindow\" : Timeslot(item[\"cod_timewindow\"],\n",
    "                                             item[\"cod_days\"],\n",
    "                                             item[\"cod_time\"],\n",
    "                                             item[\"timegroup\"])})\n",
    "                        \n",
    "        self.dict_timeslots = dict_timeslots\n",
    "        f.close()\n",
    "        \n",
    "\n",
    "        \n",
    "    def create_conflict_matrices(self):\n",
    "        \n",
    "        self.students_conflict_matrix = []\n",
    "        self.professors_conflict_matrix = []\n",
    "        \n",
    "        for i in self.events:\n",
    "            \n",
    "            ith_event_semester = []\n",
    "            ith_event_professor = []\n",
    "            \n",
    "            for j in self.events:\n",
    "                \n",
    "                if (i.event_period == 0 or j.event_period == 0) and i.cod_event != j.cod_event:\n",
    "                    ith_event_semester.append(0)\n",
    "                elif(i.event_type == \"PENDING\" or j.event_type == \"PENDING\") and i.cod_event != j.cod_event:\n",
    "                    ith_event_semester.append(0)\n",
    "                elif i.event_period == j.event_period:                    \n",
    "                    ith_event_semester.append(1)               \n",
    "                else: ith_event_semester.append(0)\n",
    "                    \n",
    "                    \n",
    "                if (i.assigned_professor == None or j.assigned_professor == None) and i.cod_event != j.cod_event:\n",
    "                    ith_event_professor.append(0)\n",
    "                elif i.assigned_professor == j.assigned_professor:\n",
    "                    ith_event_professor.append(1)\n",
    "                else:\n",
    "                    ith_event_professor.append(0)\n",
    "                    \n",
    "            self.students_conflict_matrix.append(ith_event_semester)\n",
    "            self.professors_conflict_matrix.append(ith_event_professor)\n",
    "            \n",
    "    def create_conflict_dictionaries(self):\n",
    "        \n",
    "        self.students_conflict_dict = dict()\n",
    "        self.professors_conflict_dict = dict()\n",
    "        \n",
    "        for i in self.events:\n",
    "            \n",
    "            ith_event_semester = dict()\n",
    "            ith_event_professor = dict()\n",
    "            \n",
    "            for j in self.events:\n",
    "                \n",
    "                if (i.event_period == 0 or j.event_period == 0) and i.cod_event != j.cod_event:\n",
    "                    ith_event_semester.update({j.cod_event:0})\n",
    "                elif(i.event_type == \"PENDING\" or j.event_type == \"PENDING\") and i.cod_event != j.cod_event:\n",
    "                    ith_event_semester.update({j.cod_event:0})\n",
    "                elif i.event_period == j.event_period:                    \n",
    "                    ith_event_semester.update({j.cod_event:1})           \n",
    "                else: \n",
    "                    ith_event_semester.update({j.cod_event:0})\n",
    "                    \n",
    "                    \n",
    "                if (i.assigned_professor == None or j.assigned_professor == None) and i.cod_event != j.cod_event:\n",
    "                    ith_event_professor.update({j.cod_event:0})\n",
    "                elif i.assigned_professor == j.assigned_professor:\n",
    "                    ith_event_professor.update({j.cod_event:1}) \n",
    "                else:\n",
    "                    ith_event_professor.update({j.cod_event:0})\n",
    "                    \n",
    "            self.students_conflict_dict.update({i.cod_event:ith_event_semester})\n",
    "            self.professors_conflict_dict.update({i.cod_event:ith_event_professor})\n",
    "            \n",
    "    \n",
    "        \n",
    "\n",
    "        \n",
    "    def create_conflict_dict_event_timewindow(self):\n",
    "        \n",
    "        def is_event_in_timegroup(event_timegroup, timewindow_timegroups):\n",
    "            for group in timewindow_timegroups:\n",
    "                if group ==  event_timegroup:\n",
    "                    return True\n",
    "            \n",
    "            return False\n",
    "                    \n",
    "        self.timewindow_conflict_dict = dict()\n",
    "        \n",
    "        for event in self.events:\n",
    "            \n",
    "            ith_event = dict()\n",
    "            \n",
    "            for timeslot in self.timeslots:\n",
    "                \n",
    "                if is_event_in_timegroup(event.cod_timegroup, timeslot.timegroup):\n",
    "                    ith_event.update({timeslot.cod_timewindow:1})\n",
    "                else:\n",
    "                    ith_event.update({timeslot.cod_timewindow:0})\n",
    "                \n",
    "            self.timewindow_conflict_dict.update({event.cod_event:ith_event})  \n",
    "                \n",
    "                \n",
    "    def build_initial_solution(self, isprint = False):\n",
    "        \n",
    "        def do_events_conflict(cod_event, timeslot_list): \n",
    "            for timeslot_event in timeslot_list:\n",
    "                if self.students_conflict_dict[cod_event][timeslot_event] == 1:\n",
    "                    return False\n",
    "            return True\n",
    "            \n",
    "        def do_professors_conflict(cod_event, timeslot_list):\n",
    "            for timeslot_event in timeslot_list:\n",
    "                if self.professors_conflict_dict[cod_event][timeslot_event] == 1:\n",
    "                    return False\n",
    "            return True\n",
    "            \n",
    "        \n",
    "        def do_timegroups_match(cod_event, cod_timewindow):\n",
    "            if self.timewindow_conflict_dict[cod_event][cod_timewindow] == 1:\n",
    "                return True\n",
    "            else:\n",
    "                return False\n",
    "        \n",
    "        def print_nested_dict(dict_obj, indent = 0):\n",
    "            # Iterate over all key-value pairs of dictionary\n",
    "            for key, value in dict_obj.items():\n",
    "                # If value is dict type, then print nested dict \n",
    "                if isinstance(value, dict):\n",
    "                    print(' ' * indent, key, ':', '{')\n",
    "                    print_nested_dict(value, indent + 4)\n",
    "                    print(' ' * indent, '}')\n",
    "                else:\n",
    "                    print(' ' * indent, key, ':', value)\n",
    "\n",
    "            \n",
    "        \n",
    "        dict_timetable = {\"SEG\": {\"8-10\":[], \"10-12\":[], \"14-16\":[], \"16-18\":[]},\n",
    "                  \"TER\": {\"8-10\":[], \"10-12\":[], \"14-16\":[], \"16-18\":[]}, \n",
    "                  \"QUA\": {\"8-10\":[], \"10-12\":[], \"14-16\":[], \"16-18\":[]}, \n",
    "                  \"QUI\": {\"8-10\":[], \"10-12\":[], \"14-16\":[], \"16-18\":[]},\n",
    "                  \"SEX\": {\"8-10\":[], \"10-12\":[], \"14-16\":[], \"16-18\":[]}}\n",
    "        \n",
    "        mandatory_list = [event for event in self.events if event.event_type == \"MANDATORY\"]\n",
    "        mandatory_list = sorted(mandatory_list, key = lambda x: x.students_assigned, reverse=True)\n",
    "        \n",
    "        timeslot_list = self.timeslots\n",
    "        \n",
    "        for event in mandatory_list:\n",
    "            \n",
    "            x = 0\n",
    "            while x < 2:\n",
    "                \n",
    "                timeslot_index = random.randint(0, len(timeslot_list)-1)\n",
    "                timeslot = timeslot_list[timeslot_index]\n",
    "                \n",
    "                if do_timegroups_match(event.cod_event, timeslot.cod_timewindow):\n",
    "                    if do_professors_conflict(event.cod_event, dict_timetable[timeslot.cod_days][timeslot.cod_time]):\n",
    "                        if do_events_conflict(event.cod_event, dict_timetable[timeslot.cod_days][timeslot.cod_time]):\n",
    "                            \n",
    "                            dict_timetable[timeslot.cod_days][timeslot.cod_time].append(event.cod_event)\n",
    "                            x += 1\n",
    "                            \n",
    "        if isprint == True:\n",
    "            print_nested_dict(dict_timetable)\n",
    "            \n",
    "                        \n",
    "        \n",
    "     "
   ]
  },
  {
   "cell_type": "code",
   "execution_count": 517,
   "id": "17302ff3",
   "metadata": {},
   "outputs": [],
   "source": [
    "sa = SA_Timetabling()"
   ]
  },
  {
   "cell_type": "code",
   "execution_count": 518,
   "id": "f3099ad7",
   "metadata": {},
   "outputs": [],
   "source": [
    "sa.load_events(\"odd_01_events.json\")"
   ]
  },
  {
   "cell_type": "code",
   "execution_count": 519,
   "id": "6e9672ad",
   "metadata": {},
   "outputs": [],
   "source": [
    "sa.load_dict_events(\"odd_01_events.json\")"
   ]
  },
  {
   "cell_type": "code",
   "execution_count": 520,
   "id": "74f12b1c",
   "metadata": {},
   "outputs": [],
   "source": [
    "sa.load_students(\"odd_01_students.json\")"
   ]
  },
  {
   "cell_type": "code",
   "execution_count": 521,
   "id": "7ac9f0a3",
   "metadata": {},
   "outputs": [],
   "source": [
    "sa.load_professors()"
   ]
  },
  {
   "cell_type": "code",
   "execution_count": 522,
   "id": "e292a9c4",
   "metadata": {},
   "outputs": [],
   "source": [
    "sa.load_timeslots()"
   ]
  },
  {
   "cell_type": "code",
   "execution_count": 523,
   "id": "c35193cf",
   "metadata": {},
   "outputs": [],
   "source": [
    "sa.load_dict_timeslots()"
   ]
  },
  {
   "cell_type": "code",
   "execution_count": 524,
   "id": "23e1238c",
   "metadata": {},
   "outputs": [],
   "source": [
    "sa.create_conflict_matrices()"
   ]
  },
  {
   "cell_type": "code",
   "execution_count": 525,
   "id": "0a313c0c",
   "metadata": {},
   "outputs": [],
   "source": [
    "sa.create_conflict_dictionaries()"
   ]
  },
  {
   "cell_type": "code",
   "execution_count": 526,
   "id": "78ea7211",
   "metadata": {},
   "outputs": [],
   "source": [
    "sa.create_conflict_dict_event_timewindow()"
   ]
  },
  {
   "cell_type": "code",
   "execution_count": 476,
   "id": "1ae913ac",
   "metadata": {},
   "outputs": [
    {
     "name": "stdout",
     "output_type": "stream",
     "text": [
      "IM853  -  CIRCUITOS DIGITAIS\n",
      "IM885  -  GEOMETRIA ANALÍTICA\n",
      "TN703  -  COMPUTADORES E SOCIEDADE\n",
      "TN705  -  MATEMÁTICA DISCRETA PARA COMPUTAÇÃO\n",
      "TN706  -  PROGRAMAÇÃO ESTRUTURADA\n",
      "TN707  -  INTRODUÇÃO À CIÊNCIA DA COMPUTAÇÃO\n",
      "TN710  -  ENGENHARIA DE SOFTWARE I\n",
      "TN711  -  ESTRUTURA DE DADOS I\n",
      "IM404  -  CÁLCULO II\n",
      "IM478  -  ÁLGEBRA LINEAR COMPUTACIONAL\n",
      "TN715  -  LINGUAGENS FORMAIS E AUTÔMATOS\n",
      "TN716  -  MODELAGEM E PROJETO DE SOFTWARE\n",
      "TN717  -  PROGRAMAÇÃO ORIENTADA A OBJETOS\n",
      "TN718  -  GRAFOS E ALGORITMOS\n",
      "IM859  -  PROBABILIDADE E ESTATÍSTICA PARA CIÊNCIA DA COMPUTAÇÃO\n",
      "TN723  -  ANÁLISE E PROJETO DE ALGORITMOS\n",
      "TM421  -  COMPUTAÇÃO GRÁFICA\n",
      "TN724  -  INTELIGÊNCIA ARTIFICIAL\n",
      "TN725  -  COMPILADORES\n",
      "TN726  -  MÉTODOS NUMÉRICOS\n",
      "TN727  -  BANCO DE DADOS\n",
      "TN728  -  OTIMIZAÇÃO LINEAR\n",
      "TM444  -  BUSCA E RECUPERAÇÃO DE INFORMAÇÃO\n",
      "TM432  -  MODELAGEM DE SOFTWARE COM REDES DE PETRI\n",
      "TN749  -  TEORIA DOS GRAFOS\n",
      "IM188  -  CULTURA AFRO-BRASILEIRA E AFRICANA\n",
      "TN734  -  ENGENHARIA DE REQUISITOS\n",
      "TN740  -  TÓPICOS ESPECIAIS EM GRAFOS E ALGORITMOS\n",
      "TM430  -  REDES DE COMPUTADORES SEM FIO\n"
     ]
    }
   ],
   "source": [
    "for key, value in sa.dict_events.items():\n",
    "        print(key, \" - \", value.event_name)"
   ]
  },
  {
   "cell_type": "code",
   "execution_count": 527,
   "id": "1a14e793",
   "metadata": {},
   "outputs": [
    {
     "data": {
      "text/plain": [
       "0"
      ]
     },
     "execution_count": 527,
     "metadata": {},
     "output_type": "execute_result"
    }
   ],
   "source": [
    "sa.timewindow_conflict_dict[\"IM853\"][\"SEG_8-10\"]"
   ]
  },
  {
   "cell_type": "code",
   "execution_count": 528,
   "id": "4dbc44ff",
   "metadata": {},
   "outputs": [
    {
     "data": {
      "text/plain": [
       "1"
      ]
     },
     "execution_count": 528,
     "metadata": {},
     "output_type": "execute_result"
    }
   ],
   "source": [
    "sa.students_conflict_dict[\"IM853\"][\"IM885\"]"
   ]
  },
  {
   "cell_type": "code",
   "execution_count": 529,
   "id": "e8f96d6d",
   "metadata": {},
   "outputs": [
    {
     "data": {
      "text/plain": [
       "1"
      ]
     },
     "execution_count": 529,
     "metadata": {},
     "output_type": "execute_result"
    }
   ],
   "source": [
    "sa.professors_conflict_dict[\"IM853\"][\"TM430\"]"
   ]
  },
  {
   "cell_type": "code",
   "execution_count": null,
   "id": "ff29c64d",
   "metadata": {},
   "outputs": [],
   "source": [
    "for item in sa.students_conflict_matrix:\n",
    "    print(item)"
   ]
  },
  {
   "cell_type": "code",
   "execution_count": null,
   "id": "828d7749",
   "metadata": {},
   "outputs": [],
   "source": [
    "for item in sa.professors_conflict_matrix:\n",
    "    print(item)"
   ]
  },
  {
   "cell_type": "code",
   "execution_count": 530,
   "id": "691cf3f1",
   "metadata": {},
   "outputs": [
    {
     "name": "stdout",
     "output_type": "stream",
     "text": [
      " SEG : {\n",
      "     8-10 : ['TM421']\n",
      "     10-12 : ['TN703', 'IM478', 'TN725']\n",
      "     14-16 : ['IM885']\n",
      "     16-18 : ['TN705', 'TN717']\n",
      " }\n",
      " TER : {\n",
      "     8-10 : ['TN724']\n",
      "     10-12 : ['IM853', 'IM478', 'TN724']\n",
      "     14-16 : ['TN706', 'IM404', 'TN726']\n",
      "     16-18 : ['TN707', 'IM404']\n",
      " }\n",
      " QUA : {\n",
      "     8-10 : ['TN728']\n",
      "     10-12 : ['TN715', 'TN727']\n",
      "     14-16 : ['IM885', 'TN717', 'TN728']\n",
      "     16-18 : ['TN718']\n",
      " }\n",
      " QUI : {\n",
      "     8-10 : ['TN725']\n",
      "     10-12 : ['TN703']\n",
      "     14-16 : ['IM853', 'TN718', 'TN726']\n",
      "     16-18 : ['TN716']\n",
      " }\n",
      " SEX : {\n",
      "     8-10 : ['TM421']\n",
      "     10-12 : ['TN706', 'TN716']\n",
      "     14-16 : ['TN705', 'TN715', 'TN727']\n",
      "     16-18 : ['TN707']\n",
      " }\n"
     ]
    }
   ],
   "source": [
    "sa.build_initial_solution(isprint=True)"
   ]
  }
 ],
 "metadata": {
  "kernelspec": {
   "display_name": "Python 3",
   "language": "python",
   "name": "python3"
  },
  "language_info": {
   "codemirror_mode": {
    "name": "ipython",
    "version": 3
   },
   "file_extension": ".py",
   "mimetype": "text/x-python",
   "name": "python",
   "nbconvert_exporter": "python",
   "pygments_lexer": "ipython3",
   "version": "3.8.10"
  }
 },
 "nbformat": 4,
 "nbformat_minor": 5
}
